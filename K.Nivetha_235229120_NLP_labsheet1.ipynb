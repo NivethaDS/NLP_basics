{
 "cells": [
  {
   "cell_type": "markdown",
   "metadata": {},
   "source": [
    "# WORD TOKENIZATION"
   ]
  },
  {
   "cell_type": "markdown",
   "metadata": {},
   "source": [
    "Name : K.Nivetha\n",
    "Roll no : 235229120"
   ]
  },
  {
   "cell_type": "markdown",
   "metadata": {},
   "source": [
    "In this Lab I'm going to Tokenize the string in a three different manner by using \n",
    "  -> WhitespaceTokenizer\n",
    "  -> TreebankWordTokennnnizer\n",
    "  -> WordPunctTokenizer"
   ]
  },
  {
   "cell_type": "code",
   "execution_count": 19,
   "metadata": {},
   "outputs": [],
   "source": [
    "import nltk #necessary package when we need to work with the TOKENIZATION "
   ]
  },
  {
   "cell_type": "code",
   "execution_count": 26,
   "metadata": {},
   "outputs": [
    {
     "name": "stdout",
     "output_type": "stream",
     "text": [
      "Output:\n",
      "[\"I'm\", 'Nivetha', '.', 'Wanna', 'say', 'onething', 'is..Knowledge', '+', 'attitude', '=', 'Shine']\n"
     ]
    }
   ],
   "source": [
    "#WhitespaceTokenizer ->This tokenizer splits on and discards only the whitespace Character\n",
    "\n",
    "\n",
    "from nltk.tokenize import WhitespaceTokenizer\n",
    "text = \"I'm Nivetha . Wanna say onething is..Knowledge + attitude = Shine\"\n",
    "tokenizer = WhitespaceTokenizer()\n",
    "tokens = tokenizer.tokenize(text)\n",
    "print(\"Output:\")\n",
    "print(tokens)"
   ]
  },
  {
   "cell_type": "code",
   "execution_count": 29,
   "metadata": {},
   "outputs": [
    {
     "name": "stdout",
     "output_type": "stream",
     "text": [
      "Output:\n",
      "['i', \"'m\", 'just', 'wan', 'na', 'say', 'one', 'more', 'thing', 'is', 'that', 'one', 'should', 'be', 'CURIOUS', ',', 'COMMIT', ',', 'CONFIDENT', '.', 'Do', \"n't\", 'give', 'up']\n"
     ]
    }
   ],
   "source": [
    "#TreebankWordTokenizer -> which uses the regular expression to tokenize it\n",
    "\n",
    "\n",
    "import nltk\n",
    "from nltk.tokenize import TreebankWordTokenizer\n",
    "text = \"i'm just wanna say one more thing is that one should be CURIOUS , COMMIT , CONFIDENT . Don't give up\"\n",
    "tokenizer = TreebankWordTokenizer()\n",
    "tokens = tokenizer.tokenize(text)\n",
    "print(\"Output:\")\n",
    "print(tokens)"
   ]
  },
  {
   "cell_type": "code",
   "execution_count": 30,
   "metadata": {},
   "outputs": [
    {
     "name": "stdout",
     "output_type": "stream",
     "text": [
      "Output:\n",
      "['Don', \"'\", 't', 'listen', 'anyone', \"'\", 's', 'advice', '.', 'A', \"'\", 'm', 'I', 'correct', '?']\n"
     ]
    }
   ],
   "source": [
    "#WordPunctTokenizer -> recognizes the characters and splits them separately from one another\n",
    "\n",
    "\n",
    "from nltk.tokenize import WordPunctTokenizer\n",
    "text = \"Don't listen anyone's advice . A'm I correct?\"\n",
    "tokenizer = WordPunctTokenizer()\n",
    "tokens = tokenizer.tokenize(text)\n",
    "print(\"Output:\")\n",
    "print(tokens)"
   ]
  },
  {
   "cell_type": "code",
   "execution_count": 23,
   "metadata": {},
   "outputs": [
    {
     "name": "stderr",
     "output_type": "stream",
     "text": [
      "[nltk_data] Downloading package punkt to\n",
      "[nltk_data]     C:\\Users\\1mscdsa20\\AppData\\Roaming\\nltk_data...\n",
      "[nltk_data]   Package punkt is already up-to-date!\n"
     ]
    },
    {
     "data": {
      "text/plain": [
       "True"
      ]
     },
     "execution_count": 23,
     "metadata": {},
     "output_type": "execute_result"
    }
   ],
   "source": [
    "nltk.download('punkt')"
   ]
  }
 ],
 "metadata": {
  "kernelspec": {
   "display_name": "Python 3",
   "language": "python",
   "name": "python3"
  },
  "language_info": {
   "codemirror_mode": {
    "name": "ipython",
    "version": 3
   },
   "file_extension": ".py",
   "mimetype": "text/x-python",
   "name": "python",
   "nbconvert_exporter": "python",
   "pygments_lexer": "ipython3",
   "version": "3.7.1"
  }
 },
 "nbformat": 4,
 "nbformat_minor": 5
}
