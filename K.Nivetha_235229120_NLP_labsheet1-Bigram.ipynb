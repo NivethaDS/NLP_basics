{
 "cells": [
  {
   "cell_type": "markdown",
   "id": "784da2f9",
   "metadata": {},
   "source": [
    "NAME: NIVETHA.K\n",
    "ROLL NUMBER: 235229120\n",
    "LABSHEET 1-Bigrams"
   ]
  },
  {
   "cell_type": "code",
   "execution_count": 6,
   "id": "be4aeba1",
   "metadata": {},
   "outputs": [
    {
     "name": "stdout",
     "output_type": "stream",
     "text": [
      "Top-10 bigrams:\n",
      "[(('0Uplink', 'verified'), 1), (('0km', 'to'), 1), (('1000s', 'of'), 1), (('100s', 'of'), 1), (('100th', 'anniversary'), 1), (('10am', 'to'), 1), (('10th', 'and'), 1), (('10th', 'anniversary'), 1), (('10th', 'century'), 1), (('10th', 'grade'), 1)]\n",
      "\n",
      "Top so-initial bigrams:\n",
      "[(('so', 'a'), 1), (('so', 'afraid'), 1), (('so', 'after'), 1), (('so', 'again'), 1), (('so', 'ago'), 1), (('so', 'all'), 1), (('so', 'already'), 1), (('so', 'also'), 1), (('so', 'am'), 1), (('so', 'amazing'), 1), (('so', 'an'), 1), (('so', 'and'), 1), (('so', 'angry'), 1), (('so', 'any'), 1), (('so', 'anyone'), 1), (('so', 'are'), 1), (('so', 'as'), 1), (('so', 'at'), 1), (('so', 'awesome'), 1), (('so', 'bad'), 1), (('so', 'badly'), 1), (('so', 'be'), 1), (('so', 'beautiful'), 1), (('so', 'beautifully'), 1), (('so', 'because'), 1), (('so', 'before'), 1), (('so', 'big'), 1), (('so', 'boring'), 1), (('so', 'both'), 1), (('so', 'bright'), 1), (('so', 'bring'), 1), (('so', 'busy'), 1), (('so', 'but'), 1), (('so', 'buy'), 1), (('so', 'by'), 1), (('so', 'call'), 1), (('so', 'called'), 1), (('so', 'can'), 1), (('so', 'cheap'), 1), (('so', 'check'), 1), (('so', 'choose'), 1), (('so', 'clean'), 1), (('so', 'clear'), 1), (('so', 'clearly'), 1), (('so', 'click'), 1), (('so', 'close'), 1), (('so', 'closely'), 1), (('so', 'cold'), 1), (('so', 'come'), 1), (('so', 'comfortable'), 1), (('so', 'common'), 1), (('so', 'completely'), 1), (('so', 'complex'), 1), (('so', 'complicated'), 1), (('so', 'concerned'), 1), (('so', 'confident'), 1), (('so', 'confused'), 1), (('so', 'cool'), 1), (('so', 'could'), 1), (('so', 'crazy'), 1), (('so', 'critical'), 1), (('so', 'cute'), 1), (('so', 'damn'), 1), (('so', 'dangerous'), 1), (('so', 'dark'), 1), (('so', 'dear'), 1), (('so', 'deep'), 1), (('so', 'deeply'), 1), (('so', 'designated'), 1), (('so', 'desire'), 1), (('so', 'desperate'), 1), (('so', 'desperately'), 1), (('so', 'did'), 1), (('so', 'different'), 1), (('so', 'difficult'), 1), (('so', 'do'), 1), (('so', 'does'), 1), (('so', 'doing'), 1), (('so', 'dont'), 1), (('so', 'each'), 1), (('so', 'eager'), 1), (('so', 'early'), 1), (('so', 'easily'), 1), (('so', 'easy'), 1), (('so', 'effective'), 1), (('so', 'either'), 1), (('so', 'even'), 1), (('so', 'ever'), 1), (('so', 'every'), 1), (('so', 'everyone'), 1), (('so', 'everything'), 1), (('so', 'excited'), 1), (('so', 'exciting'), 1), (('so', 'expect'), 1), (('so', 'expensive'), 1), (('so', 'familiar'), 1), (('so', 'far'), 1), (('so', 'fast'), 1), (('so', 'fat'), 1), (('so', 'feel'), 1), (('so', 'few'), 1), (('so', 'fine'), 1), (('so', 'for'), 1), (('so', 'forth'), 1), (('so', 'fortunate'), 1), (('so', 'frequently'), 1), (('so', 'fresh'), 1), (('so', 'friendly'), 1), (('so', 'from'), 1), (('so', 'fucking'), 1), (('so', 'full'), 1), (('so', 'fun'), 1), (('so', 'funny'), 1), (('so', 'get'), 1), (('so', 'give'), 1), (('so', 'glad'), 1), (('so', 'go'), 1), (('so', 'good'), 1), (('so', 'grateful'), 1), (('so', 'great'), 1), (('so', 'had'), 1), (('so', 'happens'), 1), (('so', 'happy'), 1), (('so', 'hard'), 1), (('so', 'has'), 1), (('so', 'have'), 1), (('so', 'he'), 1), (('so', 'heavily'), 1), (('so', 'heavy'), 1), (('so', 'helpful'), 1), (('so', 'her'), 1), (('so', 'here'), 1), (('so', 'high'), 1), (('so', 'highly'), 1), (('so', 'his'), 1), (('so', 'hopefully'), 1), (('so', 'hot'), 1), (('so', 'how'), 1), (('so', 'huge'), 1), (('so', 'i'), 1), (('so', 'if'), 1), (('so', 'ill'), 1), (('so', 'im'), 1), (('so', 'important'), 1), (('so', 'impressed'), 1), (('so', 'in'), 1), (('so', 'inclined'), 1), (('so', 'incredibly'), 1), (('so', 'instead'), 1), (('so', 'intense'), 1), (('so', 'interested'), 1), (('so', 'interesting'), 1), (('so', 'into'), 1), (('so', 'is'), 1), (('so', 'it'), 1), (('so', 'its'), 1), (('so', 'just'), 1), (('so', 'keen'), 1), (('so', 'keep'), 1), (('so', 'kind'), 1), (('so', 'large'), 1), (('so', 'late'), 1), (('so', 'later'), 1), (('so', 'let'), 1), (('so', 'lets'), 1), (('so', 'light'), 1), (('so', 'like'), 1), (('so', 'little'), 1), (('so', 'lonely'), 1), (('so', 'long'), 1), (('so', 'look'), 1), (('so', 'loud'), 1), (('so', 'loved'), 1), (('so', 'lovely'), 1), (('so', 'low'), 1), (('so', 'lucky'), 1), (('so', 'mad'), 1), (('so', 'make'), 1), (('so', 'many'), 1), (('so', 'may'), 1), (('so', 'maybe'), 1), (('so', 'more'), 1), (('so', 'most'), 1), (('so', 'much'), 1), (('so', 'must'), 1), (('so', 'my'), 1), (('so', 'myself'), 1), (('so', 'named'), 1), (('so', 'naturally'), 1), (('so', 'near'), 1), (('so', 'nervous'), 1), (('so', 'new'), 1), (('so', 'nice'), 1), (('so', 'no'), 1), (('so', 'not'), 1), (('so', 'nothing'), 1), (('so', 'now'), 1), (('so', 'obvious'), 1), (('so', 'obviously'), 1), (('so', 'of'), 1), (('so', 'often'), 1), (('so', 'old'), 1), (('so', 'on'), 1), (('so', 'once'), 1), (('so', 'one'), 1), (('so', 'only'), 1), (('so', 'or'), 1), (('so', 'ordered'), 1), (('so', 'other'), 1), (('so', 'others'), 1), (('so', 'our'), 1), (('so', 'out'), 1), (('so', 'over'), 1), (('so', 'people'), 1), (('so', 'perfect'), 1), (('so', 'perfectly'), 1), (('so', 'perhaps'), 1), (('so', 'please'), 1), (('so', 'pleased'), 1), (('so', 'poor'), 1), (('so', 'poorly'), 1), (('so', 'popular'), 1), (('so', 'powerful'), 1), (('so', 'predisposed'), 1), (('so', 'pretty'), 1), (('so', 'proud'), 1), (('so', 'quick'), 1), (('so', 'quickly'), 1), (('so', 'quiet'), 1), (('so', 'rapidly'), 1), (('so', 'rare'), 1), (('so', 'real'), 1), (('so', 'rich'), 1), (('so', 'right'), 1), (('so', 'sad'), 1), (('so', 'scared'), 1), (('so', 'serious'), 1), (('so', 'seriously'), 1), (('so', 'severe'), 1), (('so', 'sexy'), 1), (('so', 'shall'), 1), (('so', 'she'), 1), (('so', 'short'), 1), (('so', 'should'), 1), (('so', 'sick'), 1), (('so', 'sign'), 1), (('so', 'similar'), 1), (('so', 'simple'), 1), (('so', 'since'), 1), (('so', 'slightly'), 1), (('so', 'slow'), 1), (('so', 'slowly'), 1), (('so', 'small'), 1), (('so', 'smart'), 1), (('so', 'so'), 1), (('so', 'soft'), 1), (('so', 'some'), 1), (('so', 'soon'), 1), (('so', 'sorry'), 1), (('so', 'special'), 1), (('so', 'stay'), 1), (('so', 'stop'), 1), (('so', 'strange'), 1), (('so', 'strong'), 1), (('so', 'strongly'), 1), (('so', 'students'), 1), (('so', 'stupid'), 1), (('so', 'successful'), 1), (('so', 'sure'), 1), (('so', 'surprised'), 1), (('so', 'sweet'), 1), (('so', 'take'), 1), (('so', 'terrible'), 1), (('so', 'than'), 1), (('so', 'thankful'), 1), (('so', 'that'), 1), (('so', 'thats'), 1), (('so', 'the'), 1), (('so', 'their'), 1), (('so', 'then'), 1), (('so', 'there'), 1), (('so', 'therefore'), 1), (('so', 'these'), 1), (('so', 'they'), 1), (('so', 'thick'), 1), (('so', 'thin'), 1), (('so', 'things'), 1), (('so', 'this'), 1), (('so', 'thoroughly'), 1), (('so', 'those'), 1), (('so', 'through'), 1), (('so', 'tight'), 1), (('so', 'tired'), 1), (('so', 'to'), 1), (('so', 'today'), 1), (('so', 'too'), 1), (('so', 'totally'), 1), (('so', 'true'), 1), (('so', 'try'), 1), (('so', 'u'), 1), (('so', 'under'), 1), (('so', 'unique'), 1), (('so', 'unless'), 1), (('so', 'until'), 1), (('so', 'upset'), 1), (('so', 'use'), 1), (('so', 'used'), 1), (('so', 'useful'), 1), (('so', 'users'), 1), (('so', 'using'), 1), (('so', 'valuable'), 1), (('so', 'very'), 1), (('so', 'warm'), 1), (('so', 'was'), 1), (('so', 'watch'), 1), (('so', 'we'), 1), (('so', 'weak'), 1), (('so', 'weird'), 1), (('so', 'well'), 1), (('so', 'were'), 1), (('so', 'what'), 1), (('so', 'when'), 1), (('so', 'where'), 1), (('so', 'while'), 1), (('so', 'who'), 1), (('so', 'why'), 1), (('so', 'wide'), 1), (('so', 'widely'), 1), (('so', 'will'), 1), (('so', 'wish'), 1), (('so', 'with'), 1), (('so', 'within'), 1), (('so', 'without'), 1), (('so', 'wonderful'), 1), (('so', 'worried'), 1), (('so', 'would'), 1), (('so', 'wrong'), 1), (('so', 'yeah'), 1), (('so', 'years'), 1), (('so', 'you'), 1), (('so', 'young'), 1), (('so', 'your'), 1)]\n",
      "\n",
      "Bigram that should be represented and it is:\n",
      "0\n",
      "\n",
      "Bigram that should be represented but is not:\n",
      "0\n"
     ]
    }
   ],
   "source": [
    "# STEP 1: OPEN the file, count_2w.txt\n",
    "with open('count_2w.txt', 'r', encoding='utf-8') as f:#Unicode transformation format\n",
    "    lines = f.readlines()#Read the lines in the file\n",
    "# STEP 2: build goog2w_list\n",
    "list1= []#List created\n",
    "for line in lines:\n",
    "    words,count = line.split('\\t')\n",
    "    w1, w2 = words.split()\n",
    "    list1.append(((w1, w2), int(count)))\n",
    "\n",
    "# STEP 3: build goog2w_fd\n",
    "import nltk\n",
    "fd=nltk.FreqDist([x[0] for x in list1])\n",
    "\n",
    "# STEP 4: explore\n",
    "# What are the top-10 bigrams?\n",
    "print(\"Top-10 bigrams:\")\n",
    "print(fd.most_common(10))#method can be used here to extract top 10\n",
    "\n",
    "# What are the top so-initial bigrams?\n",
    "bigrams=[x for x in fd if x[0] == 'so']#The tuple which had a \"so\" in a word can be extracted\n",
    "bigrams_fd=nltk.FreqDist(bigrams)#frequently occured word were selected\n",
    "print(\"\\nTop so-initial bigrams:\")\n",
    "print(bigrams_fd.most_common())#most common method were called in freq dict->range not specified\n",
    "\n",
    "# Back to those bigrams necessary for computing the probability of the sentence 'She was not afraid.'. Are they all found in this data?\n",
    "bigrams=[('she', 'was'), ('was', 'not'), ('not','afraid')]#check these word occured in data or not\n",
    "for bigram in bigrams:\n",
    "    if bigram not in fd:\n",
    "        print(f\"\\nBigram {bigram} not found in data.\")#if not this statement should be print\n",
    "# Find a bigram that you think should be represented and it is.\n",
    "print(\"\\nBigram that should be represented and it is:\")\n",
    "print(fd['(the, end)'])\n",
    "\n",
    "# Find a bigram that you think should be represented but is not.\n",
    "print(\"\\nBigram that should be represented but is not:\")\n",
    "print(fd['(the, beginning)'])\n",
    "\n",
    "# STEP 5: pickle the data\n",
    "import pickle\n",
    "with open('list.pkl','wb') as f:\n",
    "    pickle.dump(list, f)\n",
    "\n",
    "with open('fd.pkl','wb') as f:\n",
    "    pickle.dump(fd, f)\n"
   ]
  },
  {
   "cell_type": "code",
   "execution_count": null,
   "id": "4ebc4287",
   "metadata": {},
   "outputs": [],
   "source": []
  }
 ],
 "metadata": {
  "kernelspec": {
   "display_name": "Python 3 (ipykernel)",
   "language": "python",
   "name": "python3"
  },
  "language_info": {
   "codemirror_mode": {
    "name": "ipython",
    "version": 3
   },
   "file_extension": ".py",
   "mimetype": "text/x-python",
   "name": "python",
   "nbconvert_exporter": "python",
   "pygments_lexer": "ipython3",
   "version": "3.9.12"
  }
 },
 "nbformat": 4,
 "nbformat_minor": 5
}
